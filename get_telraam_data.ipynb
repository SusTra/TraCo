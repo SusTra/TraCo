{
 "cells": [
  {
   "cell_type": "code",
   "execution_count": null,
   "metadata": {},
   "outputs": [],
   "source": [
    "# https://documenter.getpostman.com/view/8210376/TWDRqyaV"
   ]
  },
  {
   "cell_type": "code",
   "execution_count": 1,
   "metadata": {},
   "outputs": [],
   "source": [
    "import pandas as pd\n",
    "import numpy as np\n",
    "import seaborn as sns\n",
    "import matplotlib.pyplot as plt\n",
    "\n",
    "from IPython.display import display\n",
    "\n",
    "import requests"
   ]
  },
  {
   "cell_type": "code",
   "execution_count": 1,
   "metadata": {},
   "outputs": [],
   "source": [
    "headers = {'X-Api-Key': 'replace with your API key'}"
   ]
  },
  {
   "cell_type": "code",
   "execution_count": 3,
   "metadata": {},
   "outputs": [],
   "source": [
    "# returns date-time in UTC (Zulu) time"
   ]
  },
  {
   "cell_type": "code",
   "execution_count": 5,
   "metadata": {},
   "outputs": [],
   "source": [
    "locations = {'Slovenska': '9000000619',\n",
    "             'Dunajska1': '9000001783',\n",
    "             'Dunajska2': '9000000656',\n",
    "             'Dunajska3': '9000000655',\n",
    "             'Izanska1': '9000000820',\n",
    "             'Izanska2': '9000001506',\n",
    "             'Celovska': '9000001950',\n",
    "             'Gosposvetska': '9000000529',\n",
    "             'Koper': '9000001092'}\n",
    "\n",
    "\n",
    "#locations = {'Dunajska3': '9000000655'}"
   ]
  },
  {
   "cell_type": "code",
   "execution_count": 6,
   "metadata": {},
   "outputs": [],
   "source": [
    "years = [\"2019\",\"2020\",\"2021\"]"
   ]
  },
  {
   "cell_type": "code",
   "execution_count": 7,
   "metadata": {},
   "outputs": [],
   "source": [
    "columns = ['date',\n",
    "           'pct_up',\n",
    "           'pedestrian', \n",
    "           'bike',\n",
    "           'car',\n",
    "           'lorry',\n",
    "           'pedestrian_lft',\n",
    "           'bike_lft',\n",
    "           'car_lft',\n",
    "           'lorry_lft',\n",
    "           'pedestrian_rgt',\n",
    "           'bike_rgt',\n",
    "           'car_rgt',\n",
    "           'lorry_rgt']"
   ]
  },
  {
   "cell_type": "code",
   "execution_count": 8,
   "metadata": {},
   "outputs": [
    {
     "name": "stdout",
     "output_type": "stream",
     "text": [
      "Year: 2019\n",
      "Location: Dunajska3\n",
      "{\"status_code\": 200, \"message\": \"ok\", \"report\": []}\n",
      "Year: 2020\n",
      "Location: Dunajska3\n",
      "{\"status_code\": 200, \"message\": \"ok\", \"report\": [{\"segment_id\": 9000000655, \"date\": \"2020-09-03T08:0\n",
      "Year: 2021\n",
      "Location: Dunajska3\n",
      "{\"status_code\": 200, \"message\": \"ok\", \"report\": [{\"segment_id\": 9000000655, \"date\": \"2021-02-09T00:0\n"
     ]
    }
   ],
   "source": [
    "for year in years:\n",
    "    print(\"Year:\", year)\n",
    "    date1 = year + \"-01-01 00:00:00Z\"\n",
    "    date2 = year + \"-12-31 23:00:00Z\"\n",
    "\n",
    "    data = F' \"level\": \"segments\", \"format\": \"per-hour\", \"time_start\": \"{date1}\", \"time_end\": \"{date2}\" '\n",
    "    data = '{' + data + '}'\n",
    "\n",
    "    for label, loc_id in locations.items():\n",
    "        print(\"Location:\", label)\n",
    "        response = requests.post('https://telraam-api.net/v1/reports/' + loc_id, headers=headers, data=data)\n",
    "        print(response.text[:100])\n",
    "    \n",
    "        df = pd.DataFrame(columns=columns)\n",
    "        for measurement in eval(response.text)['report']:\n",
    "            d = {}\n",
    "            for c in columns:\n",
    "                d[c] = measurement[c]\n",
    "            df = df.append(d, ignore_index=True)\n",
    "\n",
    "        df.to_csv('data\\\\'+label+'_'+year+'_telraam.csv', index=False)"
   ]
  },
  {
   "cell_type": "code",
   "execution_count": 9,
   "metadata": {},
   "outputs": [],
   "source": [
    "for label in locations:\n",
    "    df = pd.DataFrame()\n",
    "    for year in years:\n",
    "        df2 = pd.read_csv('data\\\\'+label+'_'+year+'_telraam.csv')\n",
    "        df = pd.concat((df,df2), ignore_index=True)\n",
    "        \n",
    "    df.to_csv('data\\\\'+label+'_telraam.csv', index=False)\n",
    "        \n",
    "        \n",
    "        "
   ]
  },
  {
   "cell_type": "code",
   "execution_count": null,
   "metadata": {},
   "outputs": [],
   "source": []
  }
 ],
 "metadata": {
  "kernelspec": {
   "display_name": "Python 3.7.3 64-bit ('base': conda)",
   "language": "python",
   "name": "python37364bitbasecondacd385dda59854559b44e3f82ede14f15"
  },
  "language_info": {
   "codemirror_mode": {
    "name": "ipython",
    "version": 3
   },
   "file_extension": ".py",
   "mimetype": "text/x-python",
   "name": "python",
   "nbconvert_exporter": "python",
   "pygments_lexer": "ipython3",
   "version": "3.7.3"
  }
 },
 "nbformat": 4,
 "nbformat_minor": 2
}
