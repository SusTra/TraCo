{
 "cells": [
  {
   "cell_type": "code",
   "execution_count": 2,
   "metadata": {},
   "outputs": [],
   "source": [
    "import pandas as pd\n",
    "import numpy as np\n",
    "import seaborn as sns\n",
    "import matplotlib.pyplot as plt\n",
    "\n",
    "from IPython.display import display\n",
    "\n",
    "import requests"
   ]
  },
  {
   "cell_type": "code",
   "execution_count": 18,
   "metadata": {},
   "outputs": [],
   "source": [
    "offline = True\n",
    "city=\"Koper\"\n",
    "#city=\"Ljubljana\""
   ]
  },
  {
   "cell_type": "code",
   "execution_count": 19,
   "metadata": {},
   "outputs": [],
   "source": [
    "weather_groups = {'Clear': 'dry',\n",
    "                  'Partially cloudy': 'dry',\n",
    "                  'Rain, Partially cloudy': 'humid',\n",
    "                  'Rain': 'wet',\n",
    "                  'Rain, Overcast': 'wet',\n",
    "                  'Overcast': 'humid'}"
   ]
  },
  {
   "cell_type": "code",
   "execution_count": 30,
   "metadata": {},
   "outputs": [],
   "source": [
    "if not offline:\n",
    "    year = \"2021\"\n",
    "    \n",
    "    url = \"https://visual-crossing-weather.p.rapidapi.com/history\"\n",
    "\n",
    "    querystring = {\"startDateTime\":f\"{year}-01-01T12:00:00\",\"aggregateHours\":\"24\",\"location\":f\"{city},Slovenia\",\"endDateTime\":f\"{year}-12-31T20:00:00\",\"unitGroup\":\"metric\",\"contentType\":\"csv\",\"shortColumnNames\":\"0\"}\n",
    "    #querystring = {\"startDateTime\":\"2020-01-01T12:00:00\",\"aggregateHours\":\"24\",\"location\":\"Ljubljana,Slovenia\",\"endDateTime\":\"2020-12-31T20:00:00\",\"unitGroup\":\"metric\",\"contentType\":\"csv\",\"shortColumnNames\":\"0\"}\n",
    "    #querystring = {\"startDateTime\":\"2019-01-01T12:00:00\",\"aggregateHours\":\"24\",\"location\":\"Ljubljana,Slovenia\",\"endDateTime\":\"2019-12-31T20:00:00\",\"unitGroup\":\"metric\",\"contentType\":\"csv\",\"shortColumnNames\":\"0\"}\n",
    "\n",
    "    headers = {\n",
    "        'x-rapidapi-key': \"replace with your API key\",\n",
    "        'x-rapidapi-host': \"visual-crossing-weather.p.rapidapi.com\"\n",
    "        }\n",
    "\n",
    "    response = requests.request(\"GET\", url, headers=headers, params=querystring)\n",
    "\n",
    "    if city==\"Ljubljana\":\n",
    "        f = open(f'data\\\\weather_raw_{year}.csv', 'w')\n",
    "    else:\n",
    "        f = open(f'data\\\\weather_raw_{year}_{city}.csv', 'w')\n",
    "    f.write(str(response.text))\n",
    "    f.close()\n",
    "\n",
    "    "
   ]
  },
  {
   "cell_type": "code",
   "execution_count": 21,
   "metadata": {},
   "outputs": [],
   "source": [
    "if city==\"Ljubljana\":\n",
    "    df = pd.read_csv('data\\\\weather_raw_2019.csv')\n",
    "    df2 = pd.read_csv('data\\\\weather_raw_2020.csv')\n",
    "    df = pd.concat((df, df2), ignore_index=True)\n",
    "    df2 = pd.read_csv('data\\\\weather_raw_2021.csv')\n",
    "    df = pd.concat((df, df2), ignore_index=True)\n",
    "else:\n",
    "    df = pd.read_csv(f'data\\\\weather_raw_2019_{city}.csv')\n",
    "    df2 = pd.read_csv(f'data\\\\weather_raw_2020_{city}.csv')\n",
    "    df = pd.concat((df, df2), ignore_index=True)\n",
    "    df2 = pd.read_csv(f'data\\\\weather_raw_2021_{city}.csv')\n",
    "    df = pd.concat((df, df2), ignore_index=True)"
   ]
  },
  {
   "cell_type": "code",
   "execution_count": 25,
   "metadata": {},
   "outputs": [],
   "source": [
    "df=df[['Date time', 'Temperature', 'Conditions']].copy()\n",
    "df['Date time'] = df['Date time'].map(lambda x: x.split('/')[2]+'-'+x.split('/')[0]+'-'+x.split('/')[1])"
   ]
  },
  {
   "cell_type": "code",
   "execution_count": 26,
   "metadata": {},
   "outputs": [],
   "source": [
    "df['weather'] = df.apply(lambda x: 'good' if (weather_groups[x['Conditions']]=='dry' and x['Temperature'] >=5) or (weather_groups[x['Conditions']]=='humid' and x['Temperature'] >=10) else 'bad', axis=1)    "
   ]
  },
  {
   "cell_type": "code",
   "execution_count": 27,
   "metadata": {},
   "outputs": [
    {
     "data": {
      "text/html": [
       "<div>\n",
       "<style scoped>\n",
       "    .dataframe tbody tr th:only-of-type {\n",
       "        vertical-align: middle;\n",
       "    }\n",
       "\n",
       "    .dataframe tbody tr th {\n",
       "        vertical-align: top;\n",
       "    }\n",
       "\n",
       "    .dataframe thead th {\n",
       "        text-align: right;\n",
       "    }\n",
       "</style>\n",
       "<table border=\"1\" class=\"dataframe\">\n",
       "  <thead>\n",
       "    <tr style=\"text-align: right;\">\n",
       "      <th></th>\n",
       "      <th>Date time</th>\n",
       "      <th>Temperature</th>\n",
       "      <th>Conditions</th>\n",
       "      <th>weather</th>\n",
       "    </tr>\n",
       "  </thead>\n",
       "  <tbody>\n",
       "    <tr>\n",
       "      <th>277</th>\n",
       "      <td>2019-10-05</td>\n",
       "      <td>15.1</td>\n",
       "      <td>Clear</td>\n",
       "      <td>good</td>\n",
       "    </tr>\n",
       "  </tbody>\n",
       "</table>\n",
       "</div>"
      ],
      "text/plain": [
       "      Date time  Temperature Conditions weather\n",
       "277  2019-10-05         15.1      Clear    good"
      ]
     },
     "execution_count": 27,
     "metadata": {},
     "output_type": "execute_result"
    }
   ],
   "source": [
    "df[df['Date time'] == '2019-10-05']"
   ]
  },
  {
   "cell_type": "code",
   "execution_count": 11,
   "metadata": {},
   "outputs": [],
   "source": [
    "df = df[['Date time', 'weather']]\n",
    "df.columns = ['date', 'weather']"
   ]
  },
  {
   "cell_type": "code",
   "execution_count": 28,
   "metadata": {},
   "outputs": [],
   "source": [
    "if city == 'Ljubljana':\n",
    "    df.to_csv('data\\\\weather.csv', index=False)\n",
    "else:\n",
    "    df.to_csv(f'data\\\\weather_{city}.csv', index=False)"
   ]
  },
  {
   "cell_type": "code",
   "execution_count": null,
   "metadata": {},
   "outputs": [],
   "source": []
  },
  {
   "cell_type": "code",
   "execution_count": null,
   "metadata": {},
   "outputs": [],
   "source": []
  }
 ],
 "metadata": {
  "kernelspec": {
   "display_name": "Python 3.7.3 64-bit ('base': conda)",
   "language": "python",
   "name": "python37364bitbasecondacd385dda59854559b44e3f82ede14f15"
  },
  "language_info": {
   "codemirror_mode": {
    "name": "ipython",
    "version": 3
   },
   "file_extension": ".py",
   "mimetype": "text/x-python",
   "name": "python",
   "nbconvert_exporter": "python",
   "pygments_lexer": "ipython3",
   "version": "3.7.3"
  }
 },
 "nbformat": 4,
 "nbformat_minor": 2
}
