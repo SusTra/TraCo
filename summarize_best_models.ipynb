{
 "cells": [
  {
   "cell_type": "code",
   "execution_count": 1,
   "metadata": {},
   "outputs": [],
   "source": [
    "import pandas as pd\n",
    "import numpy as np\n",
    "import matplotlib.pyplot as plt\n",
    "import seaborn as sns\n",
    "\n",
    "import pickle"
   ]
  },
  {
   "cell_type": "code",
   "execution_count": 2,
   "metadata": {},
   "outputs": [
    {
     "data": {
      "text/html": [
       "<style>.container { width:100% !important; }</style>"
      ],
      "text/plain": [
       "<IPython.core.display.HTML object>"
      ]
     },
     "metadata": {},
     "output_type": "display_data"
    }
   ],
   "source": [
    "# models\n",
    "from sklearn.kernel_ridge import KernelRidge\n",
    "from sklearn.gaussian_process import GaussianProcessRegressor\n",
    "from sklearn.gaussian_process.kernels import RBF, DotProduct\n",
    "from sklearn.linear_model import BayesianRidge, ElasticNet, Lasso\n",
    "from sklearn.neighbors import KNeighborsRegressor\n",
    "import sklearn.gaussian_process as gp\n",
    "from sklearn.svm import SVR\n",
    "from sklearn.ensemble import RandomForestRegressor, AdaBoostRegressor, BaggingRegressor, GradientBoostingRegressor\n",
    "\n",
    "# helpers etc.\n",
    "from sklearn.model_selection import GridSearchCV\n",
    "from sklearn.model_selection import train_test_split\n",
    "from sklearn.metrics import r2_score, mean_squared_error, max_error\n",
    "from sklearn.preprocessing import StandardScaler, MinMaxScaler\n",
    "from itertools import combinations\n",
    "import time\n",
    "\n",
    "# display\n",
    "from IPython.core.display import display, HTML\n",
    "display(HTML('<style>.container { width:100% !important; }</style>'))\n",
    "\n",
    "import pickle"
   ]
  },
  {
   "cell_type": "code",
   "execution_count": 3,
   "metadata": {},
   "outputs": [],
   "source": [
    "sns.set_style(\"white\")\n",
    "#x_size, y_size = 12,8\n",
    "plt.rcParams.update({'font.size': 12})"
   ]
  },
  {
   "cell_type": "markdown",
   "metadata": {},
   "source": [
    "### Regression results"
   ]
  },
  {
   "cell_type": "code",
   "execution_count": 4,
   "metadata": {},
   "outputs": [],
   "source": [
    "df_results = pd.read_csv(\"regression_results.csv\")\n",
    "df_best_results = pd.read_csv(\"regression_results_best.csv\")"
   ]
  },
  {
   "cell_type": "markdown",
   "metadata": {},
   "source": [
    "### Settings"
   ]
  },
  {
   "cell_type": "code",
   "execution_count": 5,
   "metadata": {},
   "outputs": [],
   "source": [
    "f = open(\"data\\\\counters_per_route.txt\", encoding=\"utf8\")\n",
    "route_counters = {}\n",
    "\n",
    "for l in f:\n",
    "    if l.startswith(\"#\") or (l == \"\\n\"):\n",
    "        continue\n",
    "    ss = l.strip().split(\";\")\n",
    "    route_id = ss[0] \n",
    "    #route_id = int(route_id)\n",
    "    cs = ss[1:]  \n",
    "    cs = list(map(lambda x: x.strip(), cs))\n",
    "    if cs != ['']:\n",
    "        route_counters[route_id] = cs\n",
    "    \n",
    "route_names = list(route_counters.keys())"
   ]
  },
  {
   "cell_type": "markdown",
   "metadata": {},
   "source": [
    "#### Model settings and functions import"
   ]
  },
  {
   "cell_type": "code",
   "execution_count": 6,
   "metadata": {},
   "outputs": [],
   "source": [
    "from params_and_helpers import *"
   ]
  },
  {
   "cell_type": "markdown",
   "metadata": {},
   "source": [
    "### Regression"
   ]
  },
  {
   "cell_type": "code",
   "execution_count": 7,
   "metadata": {},
   "outputs": [
    {
     "name": "stdout",
     "output_type": "stream",
     "text": [
      "*********************\n",
      "route  Dunajska (from centre)\n",
      "model:  krr\n",
      "features:  ['workday', 'weather', 'time_x', 'time_y', '9000000656-1', '9000000655-2']\n",
      "train dataset R2: 0.7824151871841628\n",
      "best parameters:  {'alpha': 0.001, 'gamma': 0.001, 'kernel': 'chi2'}\n",
      "best score:  0.7761744713865708\n",
      "best parameters (estimator) {'alpha': 0.001, 'coef0': 1, 'degree': 3, 'gamma': 0.001, 'kernel': 'chi2', 'kernel_params': None}\n",
      "*********************\n",
      "route  Dunajska (to centre)\n",
      "model:  krr\n",
      "features:  ['workday', 'weather', 'time_x', 'time_y', '9000000656-2', '9000000655-1']\n",
      "train dataset R2: 0.7364465693437422\n",
      "best parameters:  {'alpha': 0.001, 'gamma': 0.001, 'kernel': 'chi2'}\n",
      "best score:  0.7208437496844643\n",
      "best parameters (estimator) {'alpha': 0.001, 'coef0': 1, 'degree': 3, 'gamma': 0.001, 'kernel': 'chi2', 'kernel_params': None}\n",
      "*********************\n",
      "route  Ižanska (from centre)\n",
      "model:  krr\n",
      "features:  ['workday', 'weather', 'time_x', 'time_y', '9000000820-1', '9000001506-1']\n",
      "train dataset R2: 0.9314685077605228\n",
      "best parameters:  {'alpha': 0.0001, 'gamma': 0.001, 'kernel': 'chi2'}\n",
      "best score:  0.9182181951418436\n",
      "best parameters (estimator) {'alpha': 0.0001, 'coef0': 1, 'degree': 3, 'gamma': 0.001, 'kernel': 'chi2', 'kernel_params': None}\n",
      "*********************\n",
      "route  Ižanska (to centre)\n",
      "model:  krr\n",
      "features:  ['workday', 'weather', 'time_x', 'time_y', '9000000820-2', '9000001506-2']\n",
      "train dataset R2: 0.8911606994790946\n",
      "best parameters:  {'alpha': 1e-05, 'gamma': 0.001, 'kernel': 'chi2'}\n",
      "best score:  0.8592485819573602\n",
      "best parameters (estimator) {'alpha': 1e-05, 'coef0': 1, 'degree': 3, 'gamma': 0.001, 'kernel': 'chi2', 'kernel_params': None}\n",
      "*********************\n",
      "route  Slovenska (from centre)\n",
      "model:  krr\n",
      "features:  ['workday', 'weather', 'time_x', 'time_y', '9000000619-1']\n",
      "train dataset R2: 0.8879873357725584\n",
      "best parameters:  {'alpha': 1.0, 'gamma': 0.1, 'kernel': 'chi2'}\n",
      "best score:  0.8821511456382737\n",
      "best parameters (estimator) {'alpha': 1.0, 'coef0': 1, 'degree': 3, 'gamma': 0.1, 'kernel': 'chi2', 'kernel_params': None}\n",
      "*********************\n",
      "route  Slovenska (to centre)\n",
      "model:  krr\n",
      "features:  ['workday', 'weather', 'time_x', 'time_y', '9000000619-2']\n",
      "train dataset R2: 0.7875381963474269\n",
      "best parameters:  {'alpha': 0.0001, 'gamma': 0.01, 'kernel': 'chi2'}\n",
      "best score:  0.752264149980876\n",
      "best parameters (estimator) {'alpha': 0.0001, 'coef0': 1, 'degree': 3, 'gamma': 0.01, 'kernel': 'chi2', 'kernel_params': None}\n",
      "*********************\n",
      "route  Škofije (towards Koper)\n",
      "model:  gbr\n",
      "features:  ['workday', 'weather', 'time_x', 'time_y', '9000001092-1']\n",
      "train dataset R2: 0.8950675209484958\n",
      "best parameters:  {'learning_rate': 0.1, 'n_estimators': 100}\n",
      "best score:  0.8285825902065211\n",
      "best parameters (estimator) {'alpha': 0.9, 'ccp_alpha': 0.0, 'criterion': 'friedman_mse', 'init': None, 'learning_rate': 0.1, 'loss': 'squared_error', 'max_depth': 3, 'max_features': None, 'max_leaf_nodes': None, 'min_impurity_decrease': 0.0, 'min_samples_leaf': 1, 'min_samples_split': 2, 'min_weight_fraction_leaf': 0.0, 'n_estimators': 100, 'n_iter_no_change': None, 'random_state': None, 'subsample': 1.0, 'tol': 0.0001, 'validation_fraction': 0.1, 'verbose': 0, 'warm_start': False}\n",
      "*********************\n",
      "route  Škofije (towards Trieste)\n",
      "model:  krr\n",
      "features:  ['workday', 'weather', 'time_x', 'time_y', '9000001092-2']\n",
      "train dataset R2: 0.891254346548406\n",
      "best parameters:  {'alpha': 0.0001, 'gamma': 0.01, 'kernel': 'chi2'}\n",
      "best score:  0.8552264449425534\n",
      "best parameters (estimator) {'alpha': 0.0001, 'coef0': 1, 'degree': 3, 'gamma': 0.01, 'kernel': 'chi2', 'kernel_params': None}\n"
     ]
    }
   ],
   "source": [
    "best_models = {}\n",
    "\n",
    "for route in route_names:\n",
    "\n",
    "    print(\"*********************\")\n",
    "    print('route ', route)\n",
    "    \n",
    "    file_name = r'data\\route_' + route + '_counters.csv'\n",
    "    df = pd.read_csv(file_name)\n",
    "    #df = df.iloc[:,4:]\n",
    "    df.dropna(inplace=True)\n",
    "\n",
    "    X_full, Y_full = df_to_features_and_labels(df, only_positive_features, scale_features)  \n",
    "    \n",
    "    best_model = df_best_results[df_best_results['route'] == route].iloc[0]\n",
    "    model = best_model.model\n",
    "    features = eval(best_model.features)\n",
    "    print('model: ', model)\n",
    "    print('features: ', features)\n",
    "    \n",
    "    \n",
    "    X = X_full[features]\n",
    "    Y = Y_full\n",
    "    \n",
    "    regmod = GridSearchCV(models[model], grids[model], scoring='r2')\n",
    "    \n",
    "    if model == 'rfr': # regression forests -  to avoid UserWarning: X does not have valid feature names, but RandomForestRegressor was fitted with feature names\n",
    "        regmod.fit(X.values, Y)\n",
    "        Y_pred = regmod.predict(X.values)\n",
    "\n",
    "        print(model, \"feature importance: \")\n",
    "        print({name: round(importance, 3)\n",
    "            for name, importance in zip(X_train_f.columns, regmod.best_estimator_.feature_importances_)})\n",
    "\n",
    "    else:\n",
    "        regmod.fit(X, Y)\n",
    "        Y_pred = regmod.predict(X)\n",
    "\n",
    "    best_models[route] = regmod\n",
    "        \n",
    "    R2 = r2_score(Y_pred, Y.values)\n",
    "    MSE = mean_squared_error(Y_pred, Y.values)\n",
    "    max_E = max_error(Y_pred, Y.values)\n",
    "        \n",
    "    print(\"train dataset R2:\", R2)\n",
    "    print('best parameters: ', regmod.best_params_)\n",
    "    print('best score: ', regmod.best_score_)\n",
    "    print('best parameters (estimator)', regmod.best_estimator_.get_params())    "
   ]
  },
  {
   "cell_type": "code",
   "execution_count": 18,
   "metadata": {},
   "outputs": [],
   "source": [
    "with open('best_models.pickle', 'wb') as handle:\n",
    "    pickle.dump(best_models, handle, protocol=pickle.HIGHEST_PROTOCOL)"
   ]
  },
  {
   "cell_type": "code",
   "execution_count": 37,
   "metadata": {},
   "outputs": [],
   "source": [
    "# feature_labels\n",
    "def set_feature_labels(features, sep=\", \"):\n",
    "    features=\", \".join(features)\n",
    "    features=features.replace(\"workday, weather, time_x, time_y\", \"basic\")\n",
    "    features=features.replace(\"900000\",\"\")\n",
    "    features=features.replace(\" \",\"\")\n",
    "    features=features.replace(\",\",sep)\n",
    "    \n",
    "    return features"
   ]
  },
  {
   "cell_type": "code",
   "execution_count": 51,
   "metadata": {},
   "outputs": [],
   "source": [
    "f = open('best_models.txt', 'w')\n",
    "\n",
    "for route, regmod in best_models.items():\n",
    "    best_model = df_best_results[df_best_results['route'] == route].iloc[0]\n",
    "    model = best_model.model\n",
    "    features = eval(best_model.features)\n",
    "       \n",
    "    \n",
    "    print(r\"\\section*{\"+route+r\"}\", file=f)\n",
    "\n",
    "    print(r\"\\subsection*{Summary}\", file=f)\n",
    "    print(r\"\\begin{itemize}\", file=f)\n",
    "    print(r\"\\item Model: \"+model, file=f)\n",
    "    print(r\"\\item Features: \"+set_feature_labels(features), file=f)\n",
    "    print(r\"\\end{itemize}\", file=f)\n",
    "    \n",
    "    print(r\"\\subsection*{Model parameters}\", file=f)\n",
    "    print(r\"\\begin{itemize}\", file=f)\n",
    "    for param, val in regmod.best_estimator_.get_params().items():\n",
    "        if val != None:\n",
    "            val = str(val).replace(\"_\", r\"\\_\")\n",
    "            param = param.replace(\"_\", r\"\\_\")\n",
    "            print(r\"\\item\",param,\"=\",val, file=f)\n",
    "    print(r\"\\end{itemize}\", file=f)\n",
    "f.close()"
   ]
  },
  {
   "cell_type": "code",
   "execution_count": 50,
   "metadata": {},
   "outputs": [
    {
     "data": {
      "text/plain": [
       "{'alpha': 0.0001,\n",
       " 'coef0': 1,\n",
       " 'degree': 3,\n",
       " 'gamma': 0.01,\n",
       " 'kernel': 'chi2',\n",
       " 'kernel_params': None}"
      ]
     },
     "execution_count": 50,
     "metadata": {},
     "output_type": "execute_result"
    }
   ],
   "source": [
    "regmod.best_estimator_.get_params()"
   ]
  },
  {
   "cell_type": "code",
   "execution_count": null,
   "metadata": {},
   "outputs": [],
   "source": []
  }
 ],
 "metadata": {
  "kernelspec": {
   "display_name": "Python 3.7.3 64-bit ('base': conda)",
   "language": "python",
   "name": "python37364bitbasecondacd385dda59854559b44e3f82ede14f15"
  },
  "language_info": {
   "codemirror_mode": {
    "name": "ipython",
    "version": 3
   },
   "file_extension": ".py",
   "mimetype": "text/x-python",
   "name": "python",
   "nbconvert_exporter": "python",
   "pygments_lexer": "ipython3",
   "version": "3.7.3"
  }
 },
 "nbformat": 4,
 "nbformat_minor": 2
}
